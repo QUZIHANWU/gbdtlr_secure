{
 "cells": [
  {
   "cell_type": "code",
   "execution_count": 2,
   "metadata": {},
   "outputs": [
    {
     "ename": "SyntaxError",
     "evalue": "invalid syntax (2324554400.py, line 2)",
     "output_type": "error",
     "traceback": [
      "\u001b[0;36m  File \u001b[0;32m\"/var/folders/nf/s3hrf4f94bx7d661b9kg76v80000gn/T/ipykernel_50239/2324554400.py\"\u001b[0;36m, line \u001b[0;32m2\u001b[0m\n\u001b[0;31m    'task': 'train',\u001b[0m\n\u001b[0m    ^\u001b[0m\n\u001b[0;31mSyntaxError\u001b[0m\u001b[0;31m:\u001b[0m invalid syntax\n"
     ]
    }
   ],
   "source": [
    "params = {undefined\n",
    "   'task': 'train',\n",
    "   'boosting_type': 'gbdt',\n",
    "   'objective': 'binary',\n",
    "   'metric': {'binary_logloss'},\n",
    "   'num_leaves': 64,\n",
    "   'num_trees': 100,\n",
    "   'learning_rate': 0.01,\n",
    "   'feature_fraction': 0.9,\n",
    "   'bagging_fraction': 0.8,\n",
    "   'bagging_freq': 5,\n",
    "   'verbose': 0\n",
    "}\n",
    "# number of leaves,will be used in feature transformation\n",
    "num_leaf = 64\n",
    "print('Start training...')\n",
    "# train\n",
    "gbm = lgb.train(params=params,\n",
    "                train_set=lgb_train,\n",
    "                valid_sets=lgb_train, )\n",
    "print('Start predicting...')\n",
    "# y_pred分别落在100棵树上的哪个节点上\n",
    "y_pred = gbm.predict(x_train, pred_leaf=True)\n",
    "y_pred_prob = gbm.predict(x_train)\n",
    "result = []\n",
    "threshold = 0.5\n",
    "for pred in y_pred_prob:\n",
    "    result.append(1 if pred > threshold else 0)\n",
    "print('result:', result)\n",
    "print('Writing transformed training data')\n",
    "transformed_training_matrix = np.zeros([len(y_pred), len(y_pred[1]) * num_leaf],\n",
    "                                       dtype=np.int64)  # N * num_tress * num_leafs\n",
    "for i in range(0, len(y_pred)):\n",
    "    # temp表示在每棵树上预测的值所在节点的序号（0,64,128,...,6436 为100棵树的序号，中间的值为对应树的节点序号）\n",
    "    temp = np.arange(len(y_pred[0])) * num_leaf + np.array(y_pred[i])\n",
    "    # 构造one-hot 训练数据集\n",
    "    transformed_training_matrix[i][temp] += 1\n",
    "y_pred = gbm.predict(x_test, pred_leaf=True)\n",
    "print('Writing transformed testing data')\n",
    "transformed_testing_matrix = np.zeros([len(y_pred), len(y_pred[1]) * num_leaf], dtype=np.int64)\n",
    "for i in range(0, len(y_pred)):\n",
    "    temp = np.arange(len(y_pred[0])) * num_leaf + np.array(y_pred[i])\n",
    "    # 构造one-hot 测试数据集\n",
    "    transformed_testing_matrix[i][temp] += 1"
   ]
  },
  {
   "cell_type": "code",
   "execution_count": null,
   "metadata": {},
   "outputs": [],
   "source": []
  }
 ],
 "metadata": {
  "interpreter": {
   "hash": "bbee7842ce8ba476870a006d5d5b68f11cea175afb0fea017b7f81beccf88892"
  },
  "kernelspec": {
   "display_name": "Python 3.9.7 64-bit",
   "language": "python",
   "name": "python3"
  },
  "language_info": {
   "codemirror_mode": {
    "name": "ipython",
    "version": 3
   },
   "file_extension": ".py",
   "mimetype": "text/x-python",
   "name": "python",
   "nbconvert_exporter": "python",
   "pygments_lexer": "ipython3",
   "version": "3.9.7"
  },
  "orig_nbformat": 4
 },
 "nbformat": 4,
 "nbformat_minor": 2
}
